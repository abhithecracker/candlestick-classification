{
 "cells": [
  {
   "cell_type": "code",
   "execution_count": 1,
   "metadata": {},
   "outputs": [],
   "source": [
    "import pandas as pd\n",
    "from sklearn.utils import shuffle\n",
    "from sklearn import preprocessing, metrics, svm, model_selection"
   ]
  },
  {
   "cell_type": "markdown",
   "metadata": {},
   "source": [
    "# Importing Data"
   ]
  },
  {
   "cell_type": "code",
   "execution_count": 2,
   "metadata": {},
   "outputs": [],
   "source": [
    "#Prepared Training data for training\n",
    "\n",
    "data = pd.read_csv('data/training data.csv')\n",
    "data = shuffle(data)\n",
    "\n",
    "trainX = data.drop(columns=['Candlestick'])\n",
    "trainY = data['Candlestick']\n",
    "\n",
    "#Provided unlabled data for testing (Testing accuracy on assigned lables by Ta-Lib)\n",
    "\n",
    "test = pd.read_csv('data/labled_candlesticks.csv')\n",
    "\n",
    "testX = test.drop(columns=['Candlestick', 'Date'])\n",
    "testY = test['Candlestick']\n",
    "\n",
    "encoder = preprocessing.LabelEncoder()\n",
    "trainY = (encoder.fit_transform(trainY))\n",
    "testY = (encoder.fit_transform(testY))"
   ]
  },
  {
   "cell_type": "markdown",
   "metadata": {},
   "source": [
    "# Training"
   ]
  },
  {
   "cell_type": "code",
   "execution_count": 3,
   "metadata": {},
   "outputs": [],
   "source": [
    "# fit the training dataset on the classifier\n",
    "classifier = svm.SVC()\n",
    "classifier.fit(trainX, trainY)\n",
    "\n",
    "# predict the labels on validation dataset\n",
    "predictions = classifier.predict(testX)"
   ]
  },
  {
   "cell_type": "markdown",
   "metadata": {},
   "source": [
    "# Accuracy on Test Data"
   ]
  },
  {
   "cell_type": "code",
   "execution_count": 4,
   "metadata": {},
   "outputs": [
    {
     "data": {
      "text/plain": [
       "0.8112478031634447"
      ]
     },
     "execution_count": 4,
     "metadata": {},
     "output_type": "execute_result"
    }
   ],
   "source": [
    "metrics.accuracy_score(predictions, testY)"
   ]
  },
  {
   "cell_type": "markdown",
   "metadata": {},
   "source": [
    "# Save Trained Model"
   ]
  },
  {
   "cell_type": "code",
   "execution_count": 5,
   "metadata": {},
   "outputs": [],
   "source": [
    "import pickle\n",
    "filename = 'data/model/finalized_model.pkl'\n",
    "decode = 'data/model/decoder.pkl'\n",
    "pickle.dump(classifier, open(filename, 'wb'))\n",
    "pickle.dump(encoder, open(decode, 'wb'))"
   ]
  }
 ],
 "metadata": {
  "kernelspec": {
   "display_name": "Python 3",
   "language": "python",
   "name": "python3"
  },
  "language_info": {
   "codemirror_mode": {
    "name": "ipython",
    "version": 3
   },
   "file_extension": ".py",
   "mimetype": "text/x-python",
   "name": "python",
   "nbconvert_exporter": "python",
   "pygments_lexer": "ipython3",
   "version": "3.6.4"
  }
 },
 "nbformat": 4,
 "nbformat_minor": 2
}
